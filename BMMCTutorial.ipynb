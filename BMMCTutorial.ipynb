{
 "cells": [
  {
   "cell_type": "markdown",
   "id": "0d3a97f5",
   "metadata": {},
   "source": [
    "# BMMC Multi-scale Footprinting Vignette\n",
    "\n",
    "Version 1 - 02/25/2023"
   ]
  },
  {
   "cell_type": "markdown",
   "id": "9ce4f28f",
   "metadata": {},
   "source": [
    "## 1. Loading input data & packages for footprinting"
   ]
  },
  {
   "cell_type": "code",
   "execution_count": 1,
   "id": "87cb1760",
   "metadata": {},
   "outputs": [],
   "source": [
    "from Footprinter import Footprinter"
   ]
  },
  {
   "cell_type": "markdown",
   "id": "33207c6c",
   "metadata": {},
   "source": [
    "## 2. Initialize an footprinting Project"
   ]
  },
  {
   "cell_type": "code",
   "execution_count": 2,
   "id": "dd7a3d09",
   "metadata": {
    "scrolled": true
   },
   "outputs": [
    {
     "data": {
      "text/html": [
       "<div>\n",
       "<style scoped>\n",
       "    .dataframe tbody tr th:only-of-type {\n",
       "        vertical-align: middle;\n",
       "    }\n",
       "\n",
       "    .dataframe tbody tr th {\n",
       "        vertical-align: top;\n",
       "    }\n",
       "\n",
       "    .dataframe thead th {\n",
       "        text-align: right;\n",
       "    }\n",
       "</style>\n",
       "<table border=\"1\" class=\"dataframe\">\n",
       "  <thead>\n",
       "    <tr style=\"text-align: right;\">\n",
       "      <th></th>\n",
       "      <th>barcode</th>\n",
       "      <th>group</th>\n",
       "    </tr>\n",
       "  </thead>\n",
       "  <tbody>\n",
       "    <tr>\n",
       "      <th>0</th>\n",
       "      <td>T128.R1.124.R2.026.R3.048.P1.02</td>\n",
       "      <td>1</td>\n",
       "    </tr>\n",
       "    <tr>\n",
       "      <th>1</th>\n",
       "      <td>T128.R1.037.R2.155.R3.075.P1.06</td>\n",
       "      <td>1</td>\n",
       "    </tr>\n",
       "    <tr>\n",
       "      <th>2</th>\n",
       "      <td>T128.R1.057.R2.043.R3.017.P1.03</td>\n",
       "      <td>1</td>\n",
       "    </tr>\n",
       "    <tr>\n",
       "      <th>3</th>\n",
       "      <td>T128.R1.001.R2.057.R3.120.P1.02</td>\n",
       "      <td>1</td>\n",
       "    </tr>\n",
       "    <tr>\n",
       "      <th>4</th>\n",
       "      <td>T128.R1.041.R2.077.R3.050.P1.08</td>\n",
       "      <td>1</td>\n",
       "    </tr>\n",
       "    <tr>\n",
       "      <th>...</th>\n",
       "      <td>...</td>\n",
       "      <td>...</td>\n",
       "    </tr>\n",
       "    <tr>\n",
       "      <th>4999995</th>\n",
       "      <td>T124.R1.109.R2.097.R3.143.P1.04</td>\n",
       "      <td>1000</td>\n",
       "    </tr>\n",
       "    <tr>\n",
       "      <th>4999996</th>\n",
       "      <td>T128.R1.069.R2.095.R3.157.P1.03</td>\n",
       "      <td>1000</td>\n",
       "    </tr>\n",
       "    <tr>\n",
       "      <th>4999997</th>\n",
       "      <td>T128.R1.065.R2.068.R3.190.P1.01</td>\n",
       "      <td>1000</td>\n",
       "    </tr>\n",
       "    <tr>\n",
       "      <th>4999998</th>\n",
       "      <td>T128.R1.059.R2.126.R3.101.P1.02</td>\n",
       "      <td>1000</td>\n",
       "    </tr>\n",
       "    <tr>\n",
       "      <th>4999999</th>\n",
       "      <td>T128.R1.060.R2.103.R3.029.P1.06</td>\n",
       "      <td>1000</td>\n",
       "    </tr>\n",
       "  </tbody>\n",
       "</table>\n",
       "<p>5000000 rows × 2 columns</p>\n",
       "</div>"
      ],
      "text/plain": [
       "                                 barcode  group\n",
       "0        T128.R1.124.R2.026.R3.048.P1.02      1\n",
       "1        T128.R1.037.R2.155.R3.075.P1.06      1\n",
       "2        T128.R1.057.R2.043.R3.017.P1.03      1\n",
       "3        T128.R1.001.R2.057.R3.120.P1.02      1\n",
       "4        T128.R1.041.R2.077.R3.050.P1.08      1\n",
       "...                                  ...    ...\n",
       "4999995  T124.R1.109.R2.097.R3.143.P1.04   1000\n",
       "4999996  T128.R1.069.R2.095.R3.157.P1.03   1000\n",
       "4999997  T128.R1.065.R2.068.R3.190.P1.01   1000\n",
       "4999998  T128.R1.059.R2.126.R3.101.P1.02   1000\n",
       "4999999  T128.R1.060.R2.103.R3.029.P1.06   1000\n",
       "\n",
       "[5000000 rows x 2 columns]"
      ]
     },
     "execution_count": 2,
     "metadata": {},
     "output_type": "execute_result"
    }
   ],
   "source": [
    "import pandas as pd\n",
    "import numpy as np\n",
    "barcodeGroups = pd.read_table(\"/home/rzhang/multiScaleFootprinting/data/BMMCTutorial/barcodeGrouping.txt\", sep='\\t')\n",
    "groups = np.unique(barcodeGroups['group'])\n",
    "barcodeGroups"
   ]
  },
  {
   "cell_type": "code",
   "execution_count": 3,
   "id": "a48ebd4a",
   "metadata": {},
   "outputs": [],
   "source": [
    "project = Footprinter(\n",
    "                 projectName=\"BMMCTutorial\",\n",
    "                 refGenome=\"hg38\",\n",
    "                 projectMainDir=\"/home/rzhang/multiScaleFootprinting/\",\n",
    "                 regions='/home/rzhang/multiScaleFootprinting/data/BMMCTutorial/BMMCTutorialRegions_py.bed',\n",
    "                 barcodeGrouping=barcodeGroups,\n",
    "                 groups=groups,\n",
    "                 model_dir='/home/rzhang/multiScaleFootprinting/data',# directory with pretrained models\n",
    "                 )\n",
    "\n",
    "## getBias step is done when initializing projects"
   ]
  },
  {
   "cell_type": "markdown",
   "id": "9430edcf",
   "metadata": {},
   "source": [
    "## 3. getCountTensor"
   ]
  },
  {
   "cell_type": "code",
   "execution_count": 4,
   "id": "4f214cbd",
   "metadata": {},
   "outputs": [
    {
     "name": "stdout",
     "output_type": "stream",
     "text": [
      "extra_shift: p/m 0 0\n",
      "Removing frags with length > None  bp\n",
      "Processing file: BMMCTutorialFragments.tsv\n",
      "submitting 0 jobs, takes: 0.21 s\n"
     ]
    },
    {
     "data": {
      "application/vnd.jupyter.widget-view+json": {
       "model_id": "f2b529a554ee46ab8c55b68ab777febf",
       "version_major": 2,
       "version_minor": 0
      },
      "text/plain": [
       " - Processing :   0%|          | 0/1 [00:00<?, ?it/s]"
      ]
     },
     "metadata": {},
     "output_type": "display_data"
    },
    {
     "name": "stdout",
     "output_type": "stream",
     "text": [
      "1\n"
     ]
    },
    {
     "data": {
      "application/vnd.jupyter.widget-view+json": {
       "model_id": "68592c908a39447896b396b3b2d2184b",
       "version_major": 2,
       "version_minor": 0
      },
      "text/plain": [
       "  0%|          | 0/1 [00:00<?, ?it/s]"
      ]
     },
     "metadata": {},
     "output_type": "display_data"
    }
   ],
   "source": [
    "project.computeCountTensor(\n",
    "                        pathToFrags='/home/rzhang/multiScaleFootprinting/data/BMMCTutorial/BMMCTutorialFragments.tsv',  # Path or list of paths to fragments file\n",
    "                       maxFragLength=None,  # Fragment length upper limit\n",
    "                       saveName='chunkedCountTensor.h5',\n",
    "                       nrows=np.Inf,  # Max number of rows when reading from fragments file\n",
    "                       chunkSize=2000,  # Chunk size for parallel processing of regions (I want to remove this arg)\n",
    "                       fragchunkSize=1000000,\n",
    "                       nCores=16,  # Number of cores to use\n",
    "                       returnCombined=False,\n",
    "                       # Whether to return the combined result for all chunks. Set it to False when data is too big,\n",
    "                       plus_shift=4,\n",
    "                       minus_shift=-5)"
   ]
  },
  {
   "cell_type": "markdown",
   "id": "b97b3478",
   "metadata": {},
   "source": [
    "## 4. getmultiScaleFootprints"
   ]
  },
  {
   "cell_type": "code",
   "execution_count": 5,
   "id": "939f29f0",
   "metadata": {
    "scrolled": true
   },
   "outputs": [
    {
     "name": "stdout",
     "output_type": "stream",
     "text": [
      "identified region width:  1000\n"
     ]
    },
    {
     "data": {
      "application/vnd.jupyter.widget-view+json": {
       "model_id": "31ef78550c3d4dc2a21d8ddbaf1a7f97",
       "version_major": 2,
       "version_minor": 0
      },
      "text/plain": [
       " - Footprinting!:   0%|          | 0/990 [00:00<?, ?it/s]"
      ]
     },
     "metadata": {},
     "output_type": "display_data"
    }
   ],
   "source": [
    "project.getFootprints(\n",
    "                modes=np.arange(2, 101), # int or list of int. This is used for retrieving the correct dispersion model.\n",
    "                footprintRadius=None, # Radius of the footprint region\n",
    "                flankRadius=None, # Radius of the flanking region (not including the footprint region)\n",
    "                nCores = 16, # Number of cores to use\n",
    "                saveName = \"chunkedFootprintResults.h5\",\n",
    "                verbose=True,\n",
    "                returnCombined=None,\n",
    "                    )"
   ]
  },
  {
   "cell_type": "markdown",
   "id": "a8d5adbe",
   "metadata": {},
   "source": [
    "## 5. getTFBSscore"
   ]
  },
  {
   "cell_type": "code",
   "execution_count": 6,
   "id": "2181be88",
   "metadata": {},
   "outputs": [
    {
     "data": {
      "application/vnd.jupyter.widget-view+json": {
       "model_id": "e0011a78a9c147e3a29b8886b70d7729",
       "version_major": 2,
       "version_minor": 0
      },
      "text/plain": [
       "collecting Binding prediction:   0%|          | 0/10 [00:00<?, ?it/s]"
      ]
     },
     "metadata": {},
     "output_type": "display_data"
    }
   ],
   "source": [
    "project.getBindingScore(\n",
    "                        model = 'TF',\n",
    "                        motifs=None,\n",
    "                        contextRadius=100,  # well it's never ued in the R version... so... yeah\n",
    "                        nCores=16,\n",
    "                        saveName=\"chunkedBindingResults.h5\",\n",
    "                        returnCombined=None,\n",
    "                        )"
   ]
  },
  {
   "cell_type": "markdown",
   "id": "227c0d43",
   "metadata": {},
   "source": [
    "## 6. Some interpretation of the generated results"
   ]
  },
  {
   "cell_type": "code",
   "execution_count": 7,
   "id": "b5527248",
   "metadata": {},
   "outputs": [
    {
     "name": "stdout",
     "output_type": "stream",
     "text": [
      "<KeysViewHDF5 ['chr20:56358378-56359378', 'chr20:56360346-56361346', 'chr20:56362453-56363453', 'chr20:56372619-56373619', 'chr20:56373657-56374657', 'chr20:56376099-56377099', 'chr20:56391915-56392915', 'chr20:56399697-56400697', 'chr20:56409242-56410242', 'chr20:56411665-56412665', 'group', 'regions', 'scales']>\n",
      "group ['1' '2' '3' '4' '5' '6' '7' '8' '9' '10']\n",
      "regions ['chr20:56358378-56359378' 'chr20:56360346-56361346'\n",
      " 'chr20:56362453-56363453' 'chr20:56372619-56373619'\n",
      " 'chr20:56373657-56374657' 'chr20:56376099-56377099'\n",
      " 'chr20:56391915-56392915' 'chr20:56399697-56400697'\n",
      " 'chr20:56409242-56410242' 'chr20:56411665-56412665']\n",
      "scales [ 2.  3.  4.  5.  6.  7.  8.  9. 10. 11.]\n"
     ]
    }
   ],
   "source": [
    "import h5py\n",
    "\n",
    "with h5py.File(project.FootPrintPath, \"r\") as f:\n",
    "    print (f.keys())\n",
    "    print ('group', np.array(f['group'].asstr())[:10])\n",
    "    print ('regions', np.array(f['regions'].asstr())[:10])\n",
    "    print ('scales', np.array(f['scales'])[:10])"
   ]
  },
  {
   "cell_type": "markdown",
   "id": "926e3662",
   "metadata": {},
   "source": [
    "You'll see that for the footprintresults hdf5 file, we have keys including 'group', 'regions', 'scales' which stores the description of these info. And the actual results are stored by keys named as the region_string. Let's go into one."
   ]
  },
  {
   "cell_type": "code",
   "execution_count": 8,
   "id": "3237affc",
   "metadata": {},
   "outputs": [
    {
     "name": "stdout",
     "output_type": "stream",
     "text": [
      "(1000, 99, 1000)\n"
     ]
    }
   ],
   "source": [
    "with h5py.File(project.FootPrintPath, \"r\") as f:\n",
    "    results = f['chr20:56358378-56359378'][:]\n",
    "print (results.shape)"
   ]
  },
  {
   "cell_type": "markdown",
   "id": "06d692c7",
   "metadata": {},
   "source": [
    "The retrieved results have shape 1000 x 99 x 1000, which corresponds to (#groups, #scales, #positions).\n",
    "Let's visualize one. "
   ]
  },
  {
   "cell_type": "code",
   "execution_count": 9,
   "id": "d422a82d",
   "metadata": {},
   "outputs": [
    {
     "data": {
      "image/png": "[encoded data removed]",
      "text/plain": [
       "<Figure size 640x480 with 1 Axes>"
      ]
     },
     "metadata": {},
     "output_type": "display_data"
    }
   ],
   "source": [
    "import seaborn as sns\n",
    "# 0 -> first group; ::-1 -> turn it upside down for visualization (seaborn makes 0 on y axis to be the top)\n",
    "# 100:-100, first 100 pixels and last 100 pixels are noisy, remove them\n",
    "ax = sns.heatmap(results[0, ::-1, 100:-100], cmap='Blues', square=False, cbar=False,vmax=2, vmin=0.5)\n",
    "ax.get_xaxis().set_visible(False)\n",
    "ax.get_yaxis().set_visible(False)"
   ]
  },
  {
   "cell_type": "markdown",
   "id": "6a7f7318",
   "metadata": {},
   "source": [
    "Now let's go into the TFBS scores"
   ]
  },
  {
   "cell_type": "code",
   "execution_count": 10,
   "id": "8488d9e9",
   "metadata": {},
   "outputs": [
    {
     "name": "stdout",
     "output_type": "stream",
     "text": [
      "<KeysViewHDF5 ['chr20:56358378-56359378', 'chr20:56360346-56361346', 'chr20:56362453-56363453', 'chr20:56372619-56373619', 'chr20:56373657-56374657', 'chr20:56376099-56377099', 'chr20:56391915-56392915', 'chr20:56399697-56400697', 'chr20:56409242-56410242', 'chr20:56411665-56412665', 'group', 'regions']>\n",
      "group ['1' '2' '3' '4' '5' '6' '7' '8' '9' '10']\n",
      "regions ['chr20:56358378-56359378' 'chr20:56360346-56361346'\n",
      " 'chr20:56362453-56363453' 'chr20:56372619-56373619'\n",
      " 'chr20:56373657-56374657' 'chr20:56376099-56377099'\n",
      " 'chr20:56391915-56392915' 'chr20:56399697-56400697'\n",
      " 'chr20:56409242-56410242' 'chr20:56411665-56412665']\n"
     ]
    }
   ],
   "source": [
    "with h5py.File(project.BindingScorePath['TF'], \"r\") as f:\n",
    "    print (f.keys())\n",
    "    print ('group', np.array(f['group'].asstr())[:10])\n",
    "    print ('regions', np.array(f['regions'].asstr())[:10])"
   ]
  },
  {
   "cell_type": "markdown",
   "id": "d70e9d82",
   "metadata": {},
   "source": [
    "Very similar structure... Let's get into one."
   ]
  },
  {
   "cell_type": "code",
   "execution_count": 11,
   "id": "b2d373af",
   "metadata": {},
   "outputs": [
    {
     "name": "stdout",
     "output_type": "stream",
     "text": [
      "<KeysViewHDF5 ['BindingScore']>\n",
      "(1000, 80)\n"
     ]
    }
   ],
   "source": [
    "with h5py.File(project.BindingScorePath['TF'], \"r\") as f:\n",
    "    results = f['chr20:56358378-56359378']\n",
    "    print (results.keys())\n",
    "    results = np.array(results['BindingScore'])\n",
    "print (results.shape)"
   ]
  },
  {
   "cell_type": "markdown",
   "id": "82e4c1f2",
   "metadata": {},
   "source": [
    "The retrieved results have shape 1000 x 80 , which corresponds to (#groups, #sites). Let's visualize one."
   ]
  },
  {
   "cell_type": "code",
   "execution_count": 12,
   "id": "af6785ea",
   "metadata": {},
   "outputs": [
    {
     "data": {
      "image/png": "[encoded data removed]",
      "text/plain": [
       "<Figure size 640x480 with 1 Axes>"
      ]
     },
     "metadata": {},
     "output_type": "display_data"
    }
   ],
   "source": [
    "ax = sns.barplot(x=np.arange(results[0].shape[0]), y=results[0], color='red')\n",
    "ax.get_xaxis().set_visible(False)\n",
    "ax.get_yaxis().set_visible(False)"
   ]
  },
  {
   "cell_type": "code",
   "execution_count": null,
   "id": "19d0d951",
   "metadata": {},
   "outputs": [],
   "source": []
  }
 ],
 "metadata": {
  "kernelspec": {
   "display_name": "Python 3 (ipykernel)",
   "language": "python",
   "name": "python3"
  },
  "language_info": {
   "codemirror_mode": {
    "name": "ipython",
    "version": 3
   },
   "file_extension": ".py",
   "mimetype": "text/x-python",
   "name": "python",
   "nbconvert_exporter": "python",
   "pygments_lexer": "ipython3",
   "version": "3.9.15"
  }
 },
 "nbformat": 4,
 "nbformat_minor": 5
}
