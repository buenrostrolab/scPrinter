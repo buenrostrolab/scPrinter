{
 "cells": [
  {
   "cell_type": "markdown",
   "id": "80cbd821-5980-4934-81e2-a10cefe4feb3",
   "metadata": {},
   "source": [
    "# I just really love R"
   ]
  },
  {
   "cell_type": "markdown",
   "id": "6c8eeda3-5b1e-4bcb-a96e-8a8a275890f2",
   "metadata": {},
   "source": [
    "fine... there is an anndata in R as well, you can read binding score & footprint score using that"
   ]
  },
  {
   "cell_type": "code",
   "execution_count": 2,
   "id": "d47928a6-15b6-44c5-97d2-5bda77fc91c5",
   "metadata": {
    "tags": []
   },
   "outputs": [],
   "source": [
    "# install.packages(\"anndata\")\n",
    "library(anndata)"
   ]
  },
  {
   "cell_type": "code",
   "execution_count": 3,
   "id": "aac6951c-13c0-451d-8341-12b59adc172c",
   "metadata": {
    "tags": []
   },
   "outputs": [],
   "source": [
    "footprint = read_h5ad(\"/home/rzhang/multiScaleFootprinting/trial_footprints.h5ad\")"
   ]
  },
  {
   "cell_type": "markdown",
   "id": "da03a1da-c25c-48d9-990d-ee4bed6bf8ff",
   "metadata": {},
   "source": [
    "See just like the python version, this `footprint` anndata object contains `n_obs=1000` (1000 groups) and `n_vars = 10` (10 regions).\n",
    "You can inspect which regions as well"
   ]
  },
  {
   "cell_type": "code",
   "execution_count": 4,
   "id": "019dbc35-e410-4ff6-9849-8f95db2b0d9a",
   "metadata": {},
   "outputs": [
    {
     "data": {
      "text/plain": [
       "AnnData object with n_obs × n_vars = 1000 × 10\n",
       "    obs: 'name', 'id'\n",
       "    var: 'Chromosome', 'Start', 'End', 'identifier'\n",
       "    uns: 'scales'\n",
       "    obsm: 'chr20:56358378-56359378', 'chr20:56360346-56361346', 'chr20:56362453-56363453', 'chr20:56372619-56373619', 'chr20:56373657-56374657', 'chr20:56376099-56377099', 'chr20:56391915-56392915', 'chr20:56399697-56400697', 'chr20:56409242-56410242', 'chr20:56411665-56412665'"
      ]
     },
     "metadata": {},
     "output_type": "display_data"
    }
   ],
   "source": [
    "footprint"
   ]
  },
  {
   "cell_type": "code",
   "execution_count": 5,
   "id": "5425f97a-1210-4b2e-a7ed-e1ff88ff213d",
   "metadata": {
    "tags": []
   },
   "outputs": [
    {
     "name": "stdout",
     "output_type": "stream",
     "text": [
      "                        Chromosome    Start      End              identifier\n",
      "chr20:56358378-56359378      chr20 56358378 56359378 chr20:56358378-56359378\n",
      "chr20:56360346-56361346      chr20 56360346 56361346 chr20:56360346-56361346\n",
      "chr20:56362453-56363453      chr20 56362453 56363453 chr20:56362453-56363453\n",
      "chr20:56372619-56373619      chr20 56372619 56373619 chr20:56372619-56373619\n",
      "chr20:56373657-56374657      chr20 56373657 56374657 chr20:56373657-56374657\n",
      "chr20:56376099-56377099      chr20 56376099 56377099 chr20:56376099-56377099\n",
      "chr20:56391915-56392915      chr20 56391915 56392915 chr20:56391915-56392915\n",
      "chr20:56399697-56400697      chr20 56399697 56400697 chr20:56399697-56400697\n",
      "chr20:56409242-56410242      chr20 56409242 56410242 chr20:56409242-56410242\n",
      "chr20:56411665-56412665      chr20 56411665 56412665 chr20:56411665-56412665\n"
     ]
    }
   ],
   "source": [
    "print(footprint$var)"
   ]
  },
  {
   "cell_type": "markdown",
   "id": "8f800cae-3837-43e3-9180-b3bdd007decc",
   "metadata": {},
   "source": [
    "Just like python, the signals are stored in the obsm entry, with region_identifier as key"
   ]
  },
  {
   "cell_type": "code",
   "execution_count": 27,
   "id": "9630862f-a7c2-41b4-9765-755ca23062d0",
   "metadata": {
    "tags": []
   },
   "outputs": [
    {
     "data": {
      "text/html": [
       "<style>\n",
       ".list-inline {list-style: none; margin:0; padding: 0}\n",
       ".list-inline>li {display: inline-block}\n",
       ".list-inline>li:not(:last-child)::after {content: \"\\00b7\"; padding: 0 .5ex}\n",
       "</style>\n",
       "<ol class=list-inline><li>1000</li><li>99</li><li>1000</li></ol>\n"
      ],
      "text/latex": [
       "\\begin{enumerate*}\n",
       "\\item 1000\n",
       "\\item 99\n",
       "\\item 1000\n",
       "\\end{enumerate*}\n"
      ],
      "text/markdown": [
       "1. 1000\n",
       "2. 99\n",
       "3. 1000\n",
       "\n",
       "\n"
      ],
      "text/plain": [
       "[1] 1000   99 1000"
      ]
     },
     "metadata": {},
     "output_type": "display_data"
    }
   ],
   "source": [
    "x = footprint$obsm[['chr20:56358378-56359378']]\n",
    "dim(x)"
   ]
  },
  {
   "cell_type": "markdown",
   "id": "7d18b298-5e43-4bb5-858d-34d2f5345227",
   "metadata": {},
   "source": [
    "1000 - n_groups, 99 - n_scales, 1000 - peak_width"
   ]
  },
  {
   "cell_type": "markdown",
   "id": "9ae42574-5556-4d2e-8c92-f744c538aa77",
   "metadata": {},
   "source": [
    "Similarly for binding score. "
   ]
  },
  {
   "cell_type": "code",
   "execution_count": 28,
   "id": "b7eb940a-0148-4c45-ad3a-fb0d69053cde",
   "metadata": {
    "tags": []
   },
   "outputs": [],
   "source": [
    "binding_score = read_h5ad(\"/home/rzhang/multiScaleFootprinting/trial.h5ad\")"
   ]
  },
  {
   "cell_type": "code",
   "execution_count": 30,
   "id": "51786867-06ac-4367-bc21-7ce10a5326f8",
   "metadata": {
    "tags": []
   },
   "outputs": [
    {
     "data": {
      "text/plain": [
       "AnnData object with n_obs × n_vars = 1000 × 10\n",
       "    obs: 'name', 'id'\n",
       "    var: 'Chromosome', 'Start', 'End', 'identifier'\n",
       "    uns: 'sites', 'version'\n",
       "    obsm: 'chr20:56358378-56359378', 'chr20:56360346-56361346', 'chr20:56362453-56363453', 'chr20:56372619-56373619', 'chr20:56373657-56374657', 'chr20:56376099-56377099', 'chr20:56391915-56392915', 'chr20:56399697-56400697', 'chr20:56409242-56410242', 'chr20:56411665-56412665'"
      ]
     },
     "metadata": {},
     "output_type": "display_data"
    },
    {
     "data": {
      "text/html": [
       "<style>\n",
       ".list-inline {list-style: none; margin:0; padding: 0}\n",
       ".list-inline>li {display: inline-block}\n",
       ".list-inline>li:not(:last-child)::after {content: \"\\00b7\"; padding: 0 .5ex}\n",
       "</style>\n",
       "<ol class=list-inline><li>1000</li><li>80</li></ol>\n"
      ],
      "text/latex": [
       "\\begin{enumerate*}\n",
       "\\item 1000\n",
       "\\item 80\n",
       "\\end{enumerate*}\n"
      ],
      "text/markdown": [
       "1. 1000\n",
       "2. 80\n",
       "\n",
       "\n"
      ],
      "text/plain": [
       "[1] 1000   80"
      ]
     },
     "metadata": {},
     "output_type": "display_data"
    }
   ],
   "source": [
    "binding_score\n",
    "x = binding_score$obsm[['chr20:56358378-56359378']]\n",
    "dim(x)"
   ]
  },
  {
   "cell_type": "markdown",
   "id": "35250765-6acb-4421-abfc-85e9a37faa3f",
   "metadata": {},
   "source": [
    "1000 - n_groups, 80 - n_sites (without motif matching, the TFBS is calculated every 10bp, for a 1kb window (first and last 100bp are removed). So (1000-100-100)/10 = 80"
   ]
  },
  {
   "cell_type": "code",
   "execution_count": null,
   "id": "7561ca23-134b-46fb-9c5b-97aa1a5b9235",
   "metadata": {},
   "outputs": [],
   "source": []
  }
 ],
 "metadata": {
  "kernelspec": {
   "display_name": "R",
   "language": "R",
   "name": "ir"
  },
  "language_info": {
   "codemirror_mode": "r",
   "file_extension": ".r",
   "mimetype": "text/x-r-source",
   "name": "R",
   "pygments_lexer": "r",
   "version": "4.2.2"
  }
 },
 "nbformat": 4,
 "nbformat_minor": 5
}
