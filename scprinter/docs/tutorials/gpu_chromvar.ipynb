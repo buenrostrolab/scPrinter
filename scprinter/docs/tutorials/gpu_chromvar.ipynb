{
 "cells": [
  {
   "cell_type": "markdown",
   "id": "57d734ea-20ea-430b-a650-311a2e6c0d1d",
   "metadata": {},
   "source": [
    "# GPU chromvar"
   ]
  },
  {
   "cell_type": "code",
   "execution_count": 1,
   "id": "73fe5814-e5ec-430c-a28c-8f17f1d22c98",
   "metadata": {},
   "outputs": [],
   "source": [
    "%load_ext autoreload\n",
    "%autoreload 2\n",
    "import os\n",
    "import numpy as np\n",
    "import pandas as pd\n",
    "import scanpy as sc\n",
    "import anndata as ad\n",
    "from tqdm.auto import trange, tqdm\n",
    "import os\n",
    "from scprinter.chromvar import *\n",
    "import scprinter as scp\n",
    "os.environ[\"CUDA_DEVICE_ORDER\"]=\"PCI_BUS_ID\"\n",
    "os.environ[\"CUDA_VISIBLE_DEVICES\"]=\"0\"\n",
    "import time\n",
    "import warnings\n",
    "warnings.filterwarnings(\"ignore\")\n",
    "import rmm\n",
    "from rmm.allocators.cupy import rmm_cupy_allocator\n",
    "rmm.reinitialize(\n",
    "    managed_memory=True, # Allows oversubscription\n",
    "    pool_allocator=True, # default is False\n",
    "    devices=0, # GPU device IDs to register. By default registers only GPU 0.\n",
    ")\n",
    "import cupy as cp\n",
    "cp.cuda.set_allocator(rmm_cupy_allocator)"
   ]
  },
  {
   "cell_type": "markdown",
   "id": "0396b243-2c40-41f6-86de-d414065c40c6",
   "metadata": {},
   "source": [
    "Just as a comparison, let's load the R version of chromvar results. "
   ]
  },
  {
   "cell_type": "code",
   "execution_count": 2,
   "id": "dd80b209-3b4d-4862-9f00-9d637e016603",
   "metadata": {
    "scrolled": true
   },
   "outputs": [
    {
     "data": {
      "text/html": [
       "<div>\n",
       "<style scoped>\n",
       "    .dataframe tbody tr th:only-of-type {\n",
       "        vertical-align: middle;\n",
       "    }\n",
       "\n",
       "    .dataframe tbody tr th {\n",
       "        vertical-align: top;\n",
       "    }\n",
       "\n",
       "    .dataframe thead th {\n",
       "        text-align: right;\n",
       "    }\n",
       "</style>\n",
       "<table border=\"1\" class=\"dataframe\">\n",
       "  <thead>\n",
       "    <tr style=\"text-align: right;\">\n",
       "      <th></th>\n",
       "      <th>ENSMUSG00000079808_LINE1933_AC1689771_I</th>\n",
       "      <th>ENSMUSG00000026491_LINE24_Ahctf1_D</th>\n",
       "      <th>ENSMUSG00000019256_LINE64_Ahr_D</th>\n",
       "      <th>ENSMUSG00000000731_LINE1926_Aire_D</th>\n",
       "      <th>ENSMUSG00000036602_LINE1477_Alx1_D_N3</th>\n",
       "      <th>ENSMUSG00000014603_LINE1334_Alx3_D</th>\n",
       "      <th>ENSMUSG00000040310_LINE1511_Alx4_D_N1</th>\n",
       "      <th>ENSMUSG00000046532_LINE1867_Ar_D_N2</th>\n",
       "      <th>ENSMUSG00000033237_LINE22_Arid2_I</th>\n",
       "      <th>ENSMUSG00000019564_LINE14_Arid3a_D_N3</th>\n",
       "      <th>...</th>\n",
       "      <th>ENSMUSG00000018347_LINE379_Zkscan6_I</th>\n",
       "      <th>ENSMUSG00000023902_LINE425_Zscan10_D_N2</th>\n",
       "      <th>ENSMUSG00000061894_LINE336_Zscan20_D</th>\n",
       "      <th>ENSMUSG00000022228_LINE405_Zscan26_D</th>\n",
       "      <th>ENSMUSG00000050619_LINE335_Zscan29_I</th>\n",
       "      <th>ENSMUSG00000095339_LINE1021_Zscan4b_I</th>\n",
       "      <th>ENSMUSG00000054272_LINE717_Zscan4c_D</th>\n",
       "      <th>ENSMUSG00000090714_LINE991_Zscan4d_I</th>\n",
       "      <th>ENSMUSG00000070828_LINE872_Zscan4f_I</th>\n",
       "      <th>ENSMUSG00000039068_LINE1762_Zzz3_I</th>\n",
       "    </tr>\n",
       "  </thead>\n",
       "  <tbody>\n",
       "    <tr>\n",
       "      <th>ACAGTGGT,ACTTGATG,TCTGCTGT,BUENSS77</th>\n",
       "      <td>-0.118873</td>\n",
       "      <td>0.288053</td>\n",
       "      <td>-0.231724</td>\n",
       "      <td>1.899486</td>\n",
       "      <td>-1.027117</td>\n",
       "      <td>-0.534828</td>\n",
       "      <td>-0.868868</td>\n",
       "      <td>0.030889</td>\n",
       "      <td>0.727298</td>\n",
       "      <td>1.034309</td>\n",
       "      <td>...</td>\n",
       "      <td>-1.705260</td>\n",
       "      <td>0.811998</td>\n",
       "      <td>0.402616</td>\n",
       "      <td>0.579066</td>\n",
       "      <td>-0.683116</td>\n",
       "      <td>-0.806340</td>\n",
       "      <td>-0.806340</td>\n",
       "      <td>-0.806340</td>\n",
       "      <td>-0.806340</td>\n",
       "      <td>-2.087642</td>\n",
       "    </tr>\n",
       "    <tr>\n",
       "      <th>ACAGTGGT,CAGATCTG,TGGTTGTT,BUENSS77</th>\n",
       "      <td>-1.145809</td>\n",
       "      <td>0.425556</td>\n",
       "      <td>-1.776423</td>\n",
       "      <td>-0.440824</td>\n",
       "      <td>-2.274140</td>\n",
       "      <td>-2.243825</td>\n",
       "      <td>-1.771729</td>\n",
       "      <td>0.547393</td>\n",
       "      <td>-0.151491</td>\n",
       "      <td>1.203991</td>\n",
       "      <td>...</td>\n",
       "      <td>0.794247</td>\n",
       "      <td>0.630883</td>\n",
       "      <td>-0.681136</td>\n",
       "      <td>1.213065</td>\n",
       "      <td>0.585571</td>\n",
       "      <td>1.635475</td>\n",
       "      <td>1.635475</td>\n",
       "      <td>1.635475</td>\n",
       "      <td>1.635475</td>\n",
       "      <td>-1.048181</td>\n",
       "    </tr>\n",
       "    <tr>\n",
       "      <th>ACAGTGGT,CGATGTTT,TTAGGCAT,BUENSS77</th>\n",
       "      <td>-0.343658</td>\n",
       "      <td>0.914583</td>\n",
       "      <td>-1.121585</td>\n",
       "      <td>0.380101</td>\n",
       "      <td>-1.128150</td>\n",
       "      <td>0.641243</td>\n",
       "      <td>-1.664519</td>\n",
       "      <td>1.819849</td>\n",
       "      <td>-0.082630</td>\n",
       "      <td>1.346839</td>\n",
       "      <td>...</td>\n",
       "      <td>1.956631</td>\n",
       "      <td>-0.933684</td>\n",
       "      <td>-0.008701</td>\n",
       "      <td>-1.754447</td>\n",
       "      <td>0.173440</td>\n",
       "      <td>-0.895483</td>\n",
       "      <td>-0.895483</td>\n",
       "      <td>-0.895483</td>\n",
       "      <td>-0.895483</td>\n",
       "      <td>0.522250</td>\n",
       "    </tr>\n",
       "    <tr>\n",
       "      <th>ACAGTGGT,CTTGTACT,ATCACGTT,BUENSS77</th>\n",
       "      <td>-1.890995</td>\n",
       "      <td>-0.649097</td>\n",
       "      <td>1.235604</td>\n",
       "      <td>0.051323</td>\n",
       "      <td>0.748347</td>\n",
       "      <td>-0.117057</td>\n",
       "      <td>1.514671</td>\n",
       "      <td>-0.991638</td>\n",
       "      <td>1.016805</td>\n",
       "      <td>1.053484</td>\n",
       "      <td>...</td>\n",
       "      <td>1.853033</td>\n",
       "      <td>-0.634382</td>\n",
       "      <td>0.694526</td>\n",
       "      <td>0.778770</td>\n",
       "      <td>-0.864253</td>\n",
       "      <td>1.134022</td>\n",
       "      <td>1.134022</td>\n",
       "      <td>1.134022</td>\n",
       "      <td>1.134022</td>\n",
       "      <td>-0.627319</td>\n",
       "    </tr>\n",
       "    <tr>\n",
       "      <th>ACAGTGGT,CTTGTACT,TAGTGACT,BUENSS77</th>\n",
       "      <td>-0.109526</td>\n",
       "      <td>0.241616</td>\n",
       "      <td>-0.346850</td>\n",
       "      <td>0.371183</td>\n",
       "      <td>0.164319</td>\n",
       "      <td>0.691112</td>\n",
       "      <td>-0.132006</td>\n",
       "      <td>0.572171</td>\n",
       "      <td>-0.746978</td>\n",
       "      <td>-0.676899</td>\n",
       "      <td>...</td>\n",
       "      <td>0.989476</td>\n",
       "      <td>1.442173</td>\n",
       "      <td>-0.036443</td>\n",
       "      <td>-0.221022</td>\n",
       "      <td>-0.953969</td>\n",
       "      <td>1.075958</td>\n",
       "      <td>1.075958</td>\n",
       "      <td>1.075958</td>\n",
       "      <td>1.075958</td>\n",
       "      <td>-0.051877</td>\n",
       "    </tr>\n",
       "    <tr>\n",
       "      <th>...</th>\n",
       "      <td>...</td>\n",
       "      <td>...</td>\n",
       "      <td>...</td>\n",
       "      <td>...</td>\n",
       "      <td>...</td>\n",
       "      <td>...</td>\n",
       "      <td>...</td>\n",
       "      <td>...</td>\n",
       "      <td>...</td>\n",
       "      <td>...</td>\n",
       "      <td>...</td>\n",
       "      <td>...</td>\n",
       "      <td>...</td>\n",
       "      <td>...</td>\n",
       "      <td>...</td>\n",
       "      <td>...</td>\n",
       "      <td>...</td>\n",
       "      <td>...</td>\n",
       "      <td>...</td>\n",
       "      <td>...</td>\n",
       "      <td>...</td>\n",
       "    </tr>\n",
       "    <tr>\n",
       "      <th>TTGTTCCA,TACTTCGG,TTCCTGCT,BUENSS82</th>\n",
       "      <td>1.571903</td>\n",
       "      <td>-1.958387</td>\n",
       "      <td>0.041673</td>\n",
       "      <td>-1.156531</td>\n",
       "      <td>0.456101</td>\n",
       "      <td>-0.015905</td>\n",
       "      <td>1.121406</td>\n",
       "      <td>1.944373</td>\n",
       "      <td>-0.841311</td>\n",
       "      <td>1.269208</td>\n",
       "      <td>...</td>\n",
       "      <td>-0.297391</td>\n",
       "      <td>-0.373235</td>\n",
       "      <td>0.797473</td>\n",
       "      <td>0.925978</td>\n",
       "      <td>1.002628</td>\n",
       "      <td>1.037118</td>\n",
       "      <td>1.037118</td>\n",
       "      <td>1.037118</td>\n",
       "      <td>1.037118</td>\n",
       "      <td>-0.632305</td>\n",
       "    </tr>\n",
       "    <tr>\n",
       "      <th>TTGTTCCA,TCATCCTA,TGACAGAC,BUENSS82</th>\n",
       "      <td>0.378825</td>\n",
       "      <td>-1.037939</td>\n",
       "      <td>0.494411</td>\n",
       "      <td>0.409527</td>\n",
       "      <td>0.776869</td>\n",
       "      <td>1.146438</td>\n",
       "      <td>1.655138</td>\n",
       "      <td>0.755963</td>\n",
       "      <td>3.109117</td>\n",
       "      <td>1.673887</td>\n",
       "      <td>...</td>\n",
       "      <td>0.642973</td>\n",
       "      <td>-1.724058</td>\n",
       "      <td>1.654641</td>\n",
       "      <td>-1.854327</td>\n",
       "      <td>1.726185</td>\n",
       "      <td>0.716533</td>\n",
       "      <td>0.716533</td>\n",
       "      <td>0.716533</td>\n",
       "      <td>0.716533</td>\n",
       "      <td>-0.078010</td>\n",
       "    </tr>\n",
       "    <tr>\n",
       "      <th>TTGTTCCA,TGCGTGAA,TCTCTTCA,BUENSS82</th>\n",
       "      <td>-2.305336</td>\n",
       "      <td>0.625582</td>\n",
       "      <td>-1.207702</td>\n",
       "      <td>-0.335555</td>\n",
       "      <td>-0.798000</td>\n",
       "      <td>1.146975</td>\n",
       "      <td>-0.734282</td>\n",
       "      <td>-0.018429</td>\n",
       "      <td>1.045510</td>\n",
       "      <td>-0.699309</td>\n",
       "      <td>...</td>\n",
       "      <td>1.901131</td>\n",
       "      <td>-0.441402</td>\n",
       "      <td>-0.810270</td>\n",
       "      <td>-0.321952</td>\n",
       "      <td>-0.137643</td>\n",
       "      <td>0.616003</td>\n",
       "      <td>0.616003</td>\n",
       "      <td>0.616003</td>\n",
       "      <td>0.616003</td>\n",
       "      <td>-1.610344</td>\n",
       "    </tr>\n",
       "    <tr>\n",
       "      <th>TTGTTCCA,TTGGTATG,TACAGGAT,BUENSS82</th>\n",
       "      <td>0.555429</td>\n",
       "      <td>1.812817</td>\n",
       "      <td>0.121760</td>\n",
       "      <td>-1.811261</td>\n",
       "      <td>-0.747688</td>\n",
       "      <td>-0.608895</td>\n",
       "      <td>-0.746398</td>\n",
       "      <td>0.259246</td>\n",
       "      <td>-1.033383</td>\n",
       "      <td>-0.418779</td>\n",
       "      <td>...</td>\n",
       "      <td>0.583312</td>\n",
       "      <td>0.008930</td>\n",
       "      <td>1.179705</td>\n",
       "      <td>0.020992</td>\n",
       "      <td>-0.468365</td>\n",
       "      <td>-0.069457</td>\n",
       "      <td>-0.069457</td>\n",
       "      <td>-0.069457</td>\n",
       "      <td>-0.069457</td>\n",
       "      <td>0.998524</td>\n",
       "    </tr>\n",
       "    <tr>\n",
       "      <th>TTGTTCCA,TTGTTCCA,GTGTCCTT,BUENSS82</th>\n",
       "      <td>-0.008189</td>\n",
       "      <td>-0.192650</td>\n",
       "      <td>2.738944</td>\n",
       "      <td>-0.027572</td>\n",
       "      <td>-0.792634</td>\n",
       "      <td>-1.203523</td>\n",
       "      <td>-0.817140</td>\n",
       "      <td>1.621279</td>\n",
       "      <td>-1.109789</td>\n",
       "      <td>2.695218</td>\n",
       "      <td>...</td>\n",
       "      <td>0.411250</td>\n",
       "      <td>2.659509</td>\n",
       "      <td>-1.141543</td>\n",
       "      <td>-0.015506</td>\n",
       "      <td>1.289801</td>\n",
       "      <td>-0.646001</td>\n",
       "      <td>-0.646001</td>\n",
       "      <td>-0.646001</td>\n",
       "      <td>-0.646001</td>\n",
       "      <td>2.650324</td>\n",
       "    </tr>\n",
       "  </tbody>\n",
       "</table>\n",
       "<p>21329 rows × 890 columns</p>\n",
       "</div>"
      ],
      "text/plain": [
       "                                     ENSMUSG00000079808_LINE1933_AC1689771_I  \\\n",
       "ACAGTGGT,ACTTGATG,TCTGCTGT,BUENSS77                                -0.118873   \n",
       "ACAGTGGT,CAGATCTG,TGGTTGTT,BUENSS77                                -1.145809   \n",
       "ACAGTGGT,CGATGTTT,TTAGGCAT,BUENSS77                                -0.343658   \n",
       "ACAGTGGT,CTTGTACT,ATCACGTT,BUENSS77                                -1.890995   \n",
       "ACAGTGGT,CTTGTACT,TAGTGACT,BUENSS77                                -0.109526   \n",
       "...                                                                      ...   \n",
       "TTGTTCCA,TACTTCGG,TTCCTGCT,BUENSS82                                 1.571903   \n",
       "TTGTTCCA,TCATCCTA,TGACAGAC,BUENSS82                                 0.378825   \n",
       "TTGTTCCA,TGCGTGAA,TCTCTTCA,BUENSS82                                -2.305336   \n",
       "TTGTTCCA,TTGGTATG,TACAGGAT,BUENSS82                                 0.555429   \n",
       "TTGTTCCA,TTGTTCCA,GTGTCCTT,BUENSS82                                -0.008189   \n",
       "\n",
       "                                     ENSMUSG00000026491_LINE24_Ahctf1_D  \\\n",
       "ACAGTGGT,ACTTGATG,TCTGCTGT,BUENSS77                            0.288053   \n",
       "ACAGTGGT,CAGATCTG,TGGTTGTT,BUENSS77                            0.425556   \n",
       "ACAGTGGT,CGATGTTT,TTAGGCAT,BUENSS77                            0.914583   \n",
       "ACAGTGGT,CTTGTACT,ATCACGTT,BUENSS77                           -0.649097   \n",
       "ACAGTGGT,CTTGTACT,TAGTGACT,BUENSS77                            0.241616   \n",
       "...                                                                 ...   \n",
       "TTGTTCCA,TACTTCGG,TTCCTGCT,BUENSS82                           -1.958387   \n",
       "TTGTTCCA,TCATCCTA,TGACAGAC,BUENSS82                           -1.037939   \n",
       "TTGTTCCA,TGCGTGAA,TCTCTTCA,BUENSS82                            0.625582   \n",
       "TTGTTCCA,TTGGTATG,TACAGGAT,BUENSS82                            1.812817   \n",
       "TTGTTCCA,TTGTTCCA,GTGTCCTT,BUENSS82                           -0.192650   \n",
       "\n",
       "                                     ENSMUSG00000019256_LINE64_Ahr_D  \\\n",
       "ACAGTGGT,ACTTGATG,TCTGCTGT,BUENSS77                        -0.231724   \n",
       "ACAGTGGT,CAGATCTG,TGGTTGTT,BUENSS77                        -1.776423   \n",
       "ACAGTGGT,CGATGTTT,TTAGGCAT,BUENSS77                        -1.121585   \n",
       "ACAGTGGT,CTTGTACT,ATCACGTT,BUENSS77                         1.235604   \n",
       "ACAGTGGT,CTTGTACT,TAGTGACT,BUENSS77                        -0.346850   \n",
       "...                                                              ...   \n",
       "TTGTTCCA,TACTTCGG,TTCCTGCT,BUENSS82                         0.041673   \n",
       "TTGTTCCA,TCATCCTA,TGACAGAC,BUENSS82                         0.494411   \n",
       "TTGTTCCA,TGCGTGAA,TCTCTTCA,BUENSS82                        -1.207702   \n",
       "TTGTTCCA,TTGGTATG,TACAGGAT,BUENSS82                         0.121760   \n",
       "TTGTTCCA,TTGTTCCA,GTGTCCTT,BUENSS82                         2.738944   \n",
       "\n",
       "                                     ENSMUSG00000000731_LINE1926_Aire_D  \\\n",
       "ACAGTGGT,ACTTGATG,TCTGCTGT,BUENSS77                            1.899486   \n",
       "ACAGTGGT,CAGATCTG,TGGTTGTT,BUENSS77                           -0.440824   \n",
       "ACAGTGGT,CGATGTTT,TTAGGCAT,BUENSS77                            0.380101   \n",
       "ACAGTGGT,CTTGTACT,ATCACGTT,BUENSS77                            0.051323   \n",
       "ACAGTGGT,CTTGTACT,TAGTGACT,BUENSS77                            0.371183   \n",
       "...                                                                 ...   \n",
       "TTGTTCCA,TACTTCGG,TTCCTGCT,BUENSS82                           -1.156531   \n",
       "TTGTTCCA,TCATCCTA,TGACAGAC,BUENSS82                            0.409527   \n",
       "TTGTTCCA,TGCGTGAA,TCTCTTCA,BUENSS82                           -0.335555   \n",
       "TTGTTCCA,TTGGTATG,TACAGGAT,BUENSS82                           -1.811261   \n",
       "TTGTTCCA,TTGTTCCA,GTGTCCTT,BUENSS82                           -0.027572   \n",
       "\n",
       "                                     ENSMUSG00000036602_LINE1477_Alx1_D_N3  \\\n",
       "ACAGTGGT,ACTTGATG,TCTGCTGT,BUENSS77                              -1.027117   \n",
       "ACAGTGGT,CAGATCTG,TGGTTGTT,BUENSS77                              -2.274140   \n",
       "ACAGTGGT,CGATGTTT,TTAGGCAT,BUENSS77                              -1.128150   \n",
       "ACAGTGGT,CTTGTACT,ATCACGTT,BUENSS77                               0.748347   \n",
       "ACAGTGGT,CTTGTACT,TAGTGACT,BUENSS77                               0.164319   \n",
       "...                                                                    ...   \n",
       "TTGTTCCA,TACTTCGG,TTCCTGCT,BUENSS82                               0.456101   \n",
       "TTGTTCCA,TCATCCTA,TGACAGAC,BUENSS82                               0.776869   \n",
       "TTGTTCCA,TGCGTGAA,TCTCTTCA,BUENSS82                              -0.798000   \n",
       "TTGTTCCA,TTGGTATG,TACAGGAT,BUENSS82                              -0.747688   \n",
       "TTGTTCCA,TTGTTCCA,GTGTCCTT,BUENSS82                              -0.792634   \n",
       "\n",
       "                                     ENSMUSG00000014603_LINE1334_Alx3_D  \\\n",
       "ACAGTGGT,ACTTGATG,TCTGCTGT,BUENSS77                           -0.534828   \n",
       "ACAGTGGT,CAGATCTG,TGGTTGTT,BUENSS77                           -2.243825   \n",
       "ACAGTGGT,CGATGTTT,TTAGGCAT,BUENSS77                            0.641243   \n",
       "ACAGTGGT,CTTGTACT,ATCACGTT,BUENSS77                           -0.117057   \n",
       "ACAGTGGT,CTTGTACT,TAGTGACT,BUENSS77                            0.691112   \n",
       "...                                                                 ...   \n",
       "TTGTTCCA,TACTTCGG,TTCCTGCT,BUENSS82                           -0.015905   \n",
       "TTGTTCCA,TCATCCTA,TGACAGAC,BUENSS82                            1.146438   \n",
       "TTGTTCCA,TGCGTGAA,TCTCTTCA,BUENSS82                            1.146975   \n",
       "TTGTTCCA,TTGGTATG,TACAGGAT,BUENSS82                           -0.608895   \n",
       "TTGTTCCA,TTGTTCCA,GTGTCCTT,BUENSS82                           -1.203523   \n",
       "\n",
       "                                     ENSMUSG00000040310_LINE1511_Alx4_D_N1  \\\n",
       "ACAGTGGT,ACTTGATG,TCTGCTGT,BUENSS77                              -0.868868   \n",
       "ACAGTGGT,CAGATCTG,TGGTTGTT,BUENSS77                              -1.771729   \n",
       "ACAGTGGT,CGATGTTT,TTAGGCAT,BUENSS77                              -1.664519   \n",
       "ACAGTGGT,CTTGTACT,ATCACGTT,BUENSS77                               1.514671   \n",
       "ACAGTGGT,CTTGTACT,TAGTGACT,BUENSS77                              -0.132006   \n",
       "...                                                                    ...   \n",
       "TTGTTCCA,TACTTCGG,TTCCTGCT,BUENSS82                               1.121406   \n",
       "TTGTTCCA,TCATCCTA,TGACAGAC,BUENSS82                               1.655138   \n",
       "TTGTTCCA,TGCGTGAA,TCTCTTCA,BUENSS82                              -0.734282   \n",
       "TTGTTCCA,TTGGTATG,TACAGGAT,BUENSS82                              -0.746398   \n",
       "TTGTTCCA,TTGTTCCA,GTGTCCTT,BUENSS82                              -0.817140   \n",
       "\n",
       "                                     ENSMUSG00000046532_LINE1867_Ar_D_N2  \\\n",
       "ACAGTGGT,ACTTGATG,TCTGCTGT,BUENSS77                             0.030889   \n",
       "ACAGTGGT,CAGATCTG,TGGTTGTT,BUENSS77                             0.547393   \n",
       "ACAGTGGT,CGATGTTT,TTAGGCAT,BUENSS77                             1.819849   \n",
       "ACAGTGGT,CTTGTACT,ATCACGTT,BUENSS77                            -0.991638   \n",
       "ACAGTGGT,CTTGTACT,TAGTGACT,BUENSS77                             0.572171   \n",
       "...                                                                  ...   \n",
       "TTGTTCCA,TACTTCGG,TTCCTGCT,BUENSS82                             1.944373   \n",
       "TTGTTCCA,TCATCCTA,TGACAGAC,BUENSS82                             0.755963   \n",
       "TTGTTCCA,TGCGTGAA,TCTCTTCA,BUENSS82                            -0.018429   \n",
       "TTGTTCCA,TTGGTATG,TACAGGAT,BUENSS82                             0.259246   \n",
       "TTGTTCCA,TTGTTCCA,GTGTCCTT,BUENSS82                             1.621279   \n",
       "\n",
       "                                     ENSMUSG00000033237_LINE22_Arid2_I  \\\n",
       "ACAGTGGT,ACTTGATG,TCTGCTGT,BUENSS77                           0.727298   \n",
       "ACAGTGGT,CAGATCTG,TGGTTGTT,BUENSS77                          -0.151491   \n",
       "ACAGTGGT,CGATGTTT,TTAGGCAT,BUENSS77                          -0.082630   \n",
       "ACAGTGGT,CTTGTACT,ATCACGTT,BUENSS77                           1.016805   \n",
       "ACAGTGGT,CTTGTACT,TAGTGACT,BUENSS77                          -0.746978   \n",
       "...                                                                ...   \n",
       "TTGTTCCA,TACTTCGG,TTCCTGCT,BUENSS82                          -0.841311   \n",
       "TTGTTCCA,TCATCCTA,TGACAGAC,BUENSS82                           3.109117   \n",
       "TTGTTCCA,TGCGTGAA,TCTCTTCA,BUENSS82                           1.045510   \n",
       "TTGTTCCA,TTGGTATG,TACAGGAT,BUENSS82                          -1.033383   \n",
       "TTGTTCCA,TTGTTCCA,GTGTCCTT,BUENSS82                          -1.109789   \n",
       "\n",
       "                                     ENSMUSG00000019564_LINE14_Arid3a_D_N3  \\\n",
       "ACAGTGGT,ACTTGATG,TCTGCTGT,BUENSS77                               1.034309   \n",
       "ACAGTGGT,CAGATCTG,TGGTTGTT,BUENSS77                               1.203991   \n",
       "ACAGTGGT,CGATGTTT,TTAGGCAT,BUENSS77                               1.346839   \n",
       "ACAGTGGT,CTTGTACT,ATCACGTT,BUENSS77                               1.053484   \n",
       "ACAGTGGT,CTTGTACT,TAGTGACT,BUENSS77                              -0.676899   \n",
       "...                                                                    ...   \n",
       "TTGTTCCA,TACTTCGG,TTCCTGCT,BUENSS82                               1.269208   \n",
       "TTGTTCCA,TCATCCTA,TGACAGAC,BUENSS82                               1.673887   \n",
       "TTGTTCCA,TGCGTGAA,TCTCTTCA,BUENSS82                              -0.699309   \n",
       "TTGTTCCA,TTGGTATG,TACAGGAT,BUENSS82                              -0.418779   \n",
       "TTGTTCCA,TTGTTCCA,GTGTCCTT,BUENSS82                               2.695218   \n",
       "\n",
       "                                     ...  \\\n",
       "ACAGTGGT,ACTTGATG,TCTGCTGT,BUENSS77  ...   \n",
       "ACAGTGGT,CAGATCTG,TGGTTGTT,BUENSS77  ...   \n",
       "ACAGTGGT,CGATGTTT,TTAGGCAT,BUENSS77  ...   \n",
       "ACAGTGGT,CTTGTACT,ATCACGTT,BUENSS77  ...   \n",
       "ACAGTGGT,CTTGTACT,TAGTGACT,BUENSS77  ...   \n",
       "...                                  ...   \n",
       "TTGTTCCA,TACTTCGG,TTCCTGCT,BUENSS82  ...   \n",
       "TTGTTCCA,TCATCCTA,TGACAGAC,BUENSS82  ...   \n",
       "TTGTTCCA,TGCGTGAA,TCTCTTCA,BUENSS82  ...   \n",
       "TTGTTCCA,TTGGTATG,TACAGGAT,BUENSS82  ...   \n",
       "TTGTTCCA,TTGTTCCA,GTGTCCTT,BUENSS82  ...   \n",
       "\n",
       "                                     ENSMUSG00000018347_LINE379_Zkscan6_I  \\\n",
       "ACAGTGGT,ACTTGATG,TCTGCTGT,BUENSS77                             -1.705260   \n",
       "ACAGTGGT,CAGATCTG,TGGTTGTT,BUENSS77                              0.794247   \n",
       "ACAGTGGT,CGATGTTT,TTAGGCAT,BUENSS77                              1.956631   \n",
       "ACAGTGGT,CTTGTACT,ATCACGTT,BUENSS77                              1.853033   \n",
       "ACAGTGGT,CTTGTACT,TAGTGACT,BUENSS77                              0.989476   \n",
       "...                                                                   ...   \n",
       "TTGTTCCA,TACTTCGG,TTCCTGCT,BUENSS82                             -0.297391   \n",
       "TTGTTCCA,TCATCCTA,TGACAGAC,BUENSS82                              0.642973   \n",
       "TTGTTCCA,TGCGTGAA,TCTCTTCA,BUENSS82                              1.901131   \n",
       "TTGTTCCA,TTGGTATG,TACAGGAT,BUENSS82                              0.583312   \n",
       "TTGTTCCA,TTGTTCCA,GTGTCCTT,BUENSS82                              0.411250   \n",
       "\n",
       "                                     ENSMUSG00000023902_LINE425_Zscan10_D_N2  \\\n",
       "ACAGTGGT,ACTTGATG,TCTGCTGT,BUENSS77                                 0.811998   \n",
       "ACAGTGGT,CAGATCTG,TGGTTGTT,BUENSS77                                 0.630883   \n",
       "ACAGTGGT,CGATGTTT,TTAGGCAT,BUENSS77                                -0.933684   \n",
       "ACAGTGGT,CTTGTACT,ATCACGTT,BUENSS77                                -0.634382   \n",
       "ACAGTGGT,CTTGTACT,TAGTGACT,BUENSS77                                 1.442173   \n",
       "...                                                                      ...   \n",
       "TTGTTCCA,TACTTCGG,TTCCTGCT,BUENSS82                                -0.373235   \n",
       "TTGTTCCA,TCATCCTA,TGACAGAC,BUENSS82                                -1.724058   \n",
       "TTGTTCCA,TGCGTGAA,TCTCTTCA,BUENSS82                                -0.441402   \n",
       "TTGTTCCA,TTGGTATG,TACAGGAT,BUENSS82                                 0.008930   \n",
       "TTGTTCCA,TTGTTCCA,GTGTCCTT,BUENSS82                                 2.659509   \n",
       "\n",
       "                                     ENSMUSG00000061894_LINE336_Zscan20_D  \\\n",
       "ACAGTGGT,ACTTGATG,TCTGCTGT,BUENSS77                              0.402616   \n",
       "ACAGTGGT,CAGATCTG,TGGTTGTT,BUENSS77                             -0.681136   \n",
       "ACAGTGGT,CGATGTTT,TTAGGCAT,BUENSS77                             -0.008701   \n",
       "ACAGTGGT,CTTGTACT,ATCACGTT,BUENSS77                              0.694526   \n",
       "ACAGTGGT,CTTGTACT,TAGTGACT,BUENSS77                             -0.036443   \n",
       "...                                                                   ...   \n",
       "TTGTTCCA,TACTTCGG,TTCCTGCT,BUENSS82                              0.797473   \n",
       "TTGTTCCA,TCATCCTA,TGACAGAC,BUENSS82                              1.654641   \n",
       "TTGTTCCA,TGCGTGAA,TCTCTTCA,BUENSS82                             -0.810270   \n",
       "TTGTTCCA,TTGGTATG,TACAGGAT,BUENSS82                              1.179705   \n",
       "TTGTTCCA,TTGTTCCA,GTGTCCTT,BUENSS82                             -1.141543   \n",
       "\n",
       "                                     ENSMUSG00000022228_LINE405_Zscan26_D  \\\n",
       "ACAGTGGT,ACTTGATG,TCTGCTGT,BUENSS77                              0.579066   \n",
       "ACAGTGGT,CAGATCTG,TGGTTGTT,BUENSS77                              1.213065   \n",
       "ACAGTGGT,CGATGTTT,TTAGGCAT,BUENSS77                             -1.754447   \n",
       "ACAGTGGT,CTTGTACT,ATCACGTT,BUENSS77                              0.778770   \n",
       "ACAGTGGT,CTTGTACT,TAGTGACT,BUENSS77                             -0.221022   \n",
       "...                                                                   ...   \n",
       "TTGTTCCA,TACTTCGG,TTCCTGCT,BUENSS82                              0.925978   \n",
       "TTGTTCCA,TCATCCTA,TGACAGAC,BUENSS82                             -1.854327   \n",
       "TTGTTCCA,TGCGTGAA,TCTCTTCA,BUENSS82                             -0.321952   \n",
       "TTGTTCCA,TTGGTATG,TACAGGAT,BUENSS82                              0.020992   \n",
       "TTGTTCCA,TTGTTCCA,GTGTCCTT,BUENSS82                             -0.015506   \n",
       "\n",
       "                                     ENSMUSG00000050619_LINE335_Zscan29_I  \\\n",
       "ACAGTGGT,ACTTGATG,TCTGCTGT,BUENSS77                             -0.683116   \n",
       "ACAGTGGT,CAGATCTG,TGGTTGTT,BUENSS77                              0.585571   \n",
       "ACAGTGGT,CGATGTTT,TTAGGCAT,BUENSS77                              0.173440   \n",
       "ACAGTGGT,CTTGTACT,ATCACGTT,BUENSS77                             -0.864253   \n",
       "ACAGTGGT,CTTGTACT,TAGTGACT,BUENSS77                             -0.953969   \n",
       "...                                                                   ...   \n",
       "TTGTTCCA,TACTTCGG,TTCCTGCT,BUENSS82                              1.002628   \n",
       "TTGTTCCA,TCATCCTA,TGACAGAC,BUENSS82                              1.726185   \n",
       "TTGTTCCA,TGCGTGAA,TCTCTTCA,BUENSS82                             -0.137643   \n",
       "TTGTTCCA,TTGGTATG,TACAGGAT,BUENSS82                             -0.468365   \n",
       "TTGTTCCA,TTGTTCCA,GTGTCCTT,BUENSS82                              1.289801   \n",
       "\n",
       "                                     ENSMUSG00000095339_LINE1021_Zscan4b_I  \\\n",
       "ACAGTGGT,ACTTGATG,TCTGCTGT,BUENSS77                              -0.806340   \n",
       "ACAGTGGT,CAGATCTG,TGGTTGTT,BUENSS77                               1.635475   \n",
       "ACAGTGGT,CGATGTTT,TTAGGCAT,BUENSS77                              -0.895483   \n",
       "ACAGTGGT,CTTGTACT,ATCACGTT,BUENSS77                               1.134022   \n",
       "ACAGTGGT,CTTGTACT,TAGTGACT,BUENSS77                               1.075958   \n",
       "...                                                                    ...   \n",
       "TTGTTCCA,TACTTCGG,TTCCTGCT,BUENSS82                               1.037118   \n",
       "TTGTTCCA,TCATCCTA,TGACAGAC,BUENSS82                               0.716533   \n",
       "TTGTTCCA,TGCGTGAA,TCTCTTCA,BUENSS82                               0.616003   \n",
       "TTGTTCCA,TTGGTATG,TACAGGAT,BUENSS82                              -0.069457   \n",
       "TTGTTCCA,TTGTTCCA,GTGTCCTT,BUENSS82                              -0.646001   \n",
       "\n",
       "                                     ENSMUSG00000054272_LINE717_Zscan4c_D  \\\n",
       "ACAGTGGT,ACTTGATG,TCTGCTGT,BUENSS77                             -0.806340   \n",
       "ACAGTGGT,CAGATCTG,TGGTTGTT,BUENSS77                              1.635475   \n",
       "ACAGTGGT,CGATGTTT,TTAGGCAT,BUENSS77                             -0.895483   \n",
       "ACAGTGGT,CTTGTACT,ATCACGTT,BUENSS77                              1.134022   \n",
       "ACAGTGGT,CTTGTACT,TAGTGACT,BUENSS77                              1.075958   \n",
       "...                                                                   ...   \n",
       "TTGTTCCA,TACTTCGG,TTCCTGCT,BUENSS82                              1.037118   \n",
       "TTGTTCCA,TCATCCTA,TGACAGAC,BUENSS82                              0.716533   \n",
       "TTGTTCCA,TGCGTGAA,TCTCTTCA,BUENSS82                              0.616003   \n",
       "TTGTTCCA,TTGGTATG,TACAGGAT,BUENSS82                             -0.069457   \n",
       "TTGTTCCA,TTGTTCCA,GTGTCCTT,BUENSS82                             -0.646001   \n",
       "\n",
       "                                     ENSMUSG00000090714_LINE991_Zscan4d_I  \\\n",
       "ACAGTGGT,ACTTGATG,TCTGCTGT,BUENSS77                             -0.806340   \n",
       "ACAGTGGT,CAGATCTG,TGGTTGTT,BUENSS77                              1.635475   \n",
       "ACAGTGGT,CGATGTTT,TTAGGCAT,BUENSS77                             -0.895483   \n",
       "ACAGTGGT,CTTGTACT,ATCACGTT,BUENSS77                              1.134022   \n",
       "ACAGTGGT,CTTGTACT,TAGTGACT,BUENSS77                              1.075958   \n",
       "...                                                                   ...   \n",
       "TTGTTCCA,TACTTCGG,TTCCTGCT,BUENSS82                              1.037118   \n",
       "TTGTTCCA,TCATCCTA,TGACAGAC,BUENSS82                              0.716533   \n",
       "TTGTTCCA,TGCGTGAA,TCTCTTCA,BUENSS82                              0.616003   \n",
       "TTGTTCCA,TTGGTATG,TACAGGAT,BUENSS82                             -0.069457   \n",
       "TTGTTCCA,TTGTTCCA,GTGTCCTT,BUENSS82                             -0.646001   \n",
       "\n",
       "                                     ENSMUSG00000070828_LINE872_Zscan4f_I  \\\n",
       "ACAGTGGT,ACTTGATG,TCTGCTGT,BUENSS77                             -0.806340   \n",
       "ACAGTGGT,CAGATCTG,TGGTTGTT,BUENSS77                              1.635475   \n",
       "ACAGTGGT,CGATGTTT,TTAGGCAT,BUENSS77                             -0.895483   \n",
       "ACAGTGGT,CTTGTACT,ATCACGTT,BUENSS77                              1.134022   \n",
       "ACAGTGGT,CTTGTACT,TAGTGACT,BUENSS77                              1.075958   \n",
       "...                                                                   ...   \n",
       "TTGTTCCA,TACTTCGG,TTCCTGCT,BUENSS82                              1.037118   \n",
       "TTGTTCCA,TCATCCTA,TGACAGAC,BUENSS82                              0.716533   \n",
       "TTGTTCCA,TGCGTGAA,TCTCTTCA,BUENSS82                              0.616003   \n",
       "TTGTTCCA,TTGGTATG,TACAGGAT,BUENSS82                             -0.069457   \n",
       "TTGTTCCA,TTGTTCCA,GTGTCCTT,BUENSS82                             -0.646001   \n",
       "\n",
       "                                     ENSMUSG00000039068_LINE1762_Zzz3_I  \n",
       "ACAGTGGT,ACTTGATG,TCTGCTGT,BUENSS77                           -2.087642  \n",
       "ACAGTGGT,CAGATCTG,TGGTTGTT,BUENSS77                           -1.048181  \n",
       "ACAGTGGT,CGATGTTT,TTAGGCAT,BUENSS77                            0.522250  \n",
       "ACAGTGGT,CTTGTACT,ATCACGTT,BUENSS77                           -0.627319  \n",
       "ACAGTGGT,CTTGTACT,TAGTGACT,BUENSS77                           -0.051877  \n",
       "...                                                                 ...  \n",
       "TTGTTCCA,TACTTCGG,TTCCTGCT,BUENSS82                           -0.632305  \n",
       "TTGTTCCA,TCATCCTA,TGACAGAC,BUENSS82                           -0.078010  \n",
       "TTGTTCCA,TGCGTGAA,TCTCTTCA,BUENSS82                           -1.610344  \n",
       "TTGTTCCA,TTGGTATG,TACAGGAT,BUENSS82                            0.998524  \n",
       "TTGTTCCA,TTGTTCCA,GTGTCCTT,BUENSS82                            2.650324  \n",
       "\n",
       "[21329 rows x 890 columns]"
      ]
     },
     "execution_count": 2,
     "metadata": {},
     "output_type": "execute_result"
    }
   ],
   "source": [
    "results_r = pd.read_csv(\"motifZ_mouse_YO_cultured.txt.zip\", sep='\\t')\n",
    "ori_barcodes = [xx.split(\"_\")[-1] for xx in results_r.index]\n",
    "results_r.index = ori_barcodes\n",
    "results_r"
   ]
  },
  {
   "cell_type": "markdown",
   "id": "63c66410-1c47-4bf5-9b74-77d8a43dd93f",
   "metadata": {
    "jp-MarkdownHeadingCollapsed": true
   },
   "source": [
    "## Step1: turn fragments into cellxpeak file (skip if you already have one or have your own way of doing it)."
   ]
  },
  {
   "cell_type": "markdown",
   "id": "7705acf2-05b6-4aae-859b-e35d89878d4a",
   "metadata": {},
   "source": [
    "Now let's start to use the package.\n",
    "\n",
    "I use snapatac2 to do it, scprinter also has a function to achieve that, or you can use whatever package you are familiar with to generate the cellxpeak anndata, where the var_names are sth like \"chr1:123-567\""
   ]
  },
  {
   "cell_type": "code",
   "execution_count": 5,
   "id": "c00a7eca-38d4-4ced-abc6-e8a270f84825",
   "metadata": {},
   "outputs": [
    {
     "name": "stdout",
     "output_type": "stream",
     "text": [
      "takes 631.990008354187\n"
     ]
    }
   ],
   "source": [
    "import snapatac2 as snap\n",
    "import time\n",
    "start = time.time()\n",
    "# this step is to import fragments\n",
    "printer = snap.pp.import_data(\n",
    "                    '/data/rzhang/RoRo_frags/merge.fragments.tsv.gz',\n",
    "                    chrom_sizes = snap.genome.mm10.chrom_sizes,\n",
    "                    file='/data/rzhang/RoRo_frags/snap.h5ad',\n",
    "                    n_jobs=32,\n",
    "                    sorted_by_barcode=False\n",
    "                    )\n",
    "print (\"takes\", time.time()-start)\n",
    "# get the peaks.bed file, resize it to 300bp or whatever you like\n",
    "bed = pd.read_csv(\"/data/rzhang/PRINT_rev/mouse_HSC/regionRanges.bed\", sep='\\t', header=None)\n",
    "bed[1] = bed[1] +350\n",
    "bed[1] = np.array(bed[1]).astype('int')\n",
    "bed[2] = bed[2] - 350\n",
    "bed[2] = np.array(bed[2]).astype('int')\n",
    "print (bed)\n",
    "bed.to_csv(\"/data/rzhang/RoRo_frags/regions_py.bed\", sep='\\t', header=False, index=False)\n",
    "# use snapatac2 to generate the cellxpeak matrix\n",
    "peak_adata = snap.pp.make_peak_matrix(printer, \n",
    "                                      peak_file=\"/data/rzhang/RoRo_frags/regions_py.bed\", \n",
    "                                      file='/data/rzhang/RoRo_frags/cellxpeaks.h5ad').to_memory()\n"
   ]
  },
  {
   "cell_type": "code",
   "execution_count": 54,
   "id": "fd67c08f-d122-4216-a9b1-c1d2725dc761",
   "metadata": {},
   "outputs": [],
   "source": [
    "printer.close()"
   ]
  },
  {
   "cell_type": "markdown",
   "id": "d7a9abf4-1e19-4ac0-ab98-ad04589b87d3",
   "metadata": {},
   "source": [
    "## Step 2: load the cellxpeak matrix and run chromvar"
   ]
  },
  {
   "cell_type": "code",
   "execution_count": 4,
   "id": "7a2c09ff-9bb6-4c14-bbca-38c8bd1cbb55",
   "metadata": {},
   "outputs": [],
   "source": [
    "peak_adata = ad.read_h5ad('/data/rzhang/RoRo_frags/cellxpeaks.h5ad')"
   ]
  },
  {
   "cell_type": "code",
   "execution_count": 5,
   "id": "82d4cebd-573c-466c-ad61-84f3c678a031",
   "metadata": {},
   "outputs": [
    {
     "data": {
      "text/plain": [
       "View of AnnData object with n_obs × n_vars = 21329 × 298760\n",
       "    obs: 'n_fragment', 'frac_dup', 'frac_mito'"
      ]
     },
     "execution_count": 5,
     "metadata": {},
     "output_type": "execute_result"
    }
   ],
   "source": [
    "# this is what the peak_adata looks like\n",
    "peak_adata = peak_adata[ori_barcodes, :] # subset to keep only overlapping barcodes in the R version, there are smarter way to do it.\n",
    "peak_coverage = np.sum(peak_adata.X, axis=0)\n",
    "peak_adata = peak_adata[:, peak_coverage > 0] # keep only peaks with nonzero reads across cells\n",
    "peak_adata"
   ]
  },
  {
   "cell_type": "markdown",
   "id": "2ab08d2a-6673-4d95-a1a7-51f4a7501755",
   "metadata": {},
   "source": [
    "get GC content / sample backgroun peaks / do motif matching"
   ]
  },
  {
   "cell_type": "code",
   "execution_count": 6,
   "id": "8162de2d-5009-449c-a4b8-832221b83a2c",
   "metadata": {},
   "outputs": [
    {
     "data": {
      "application/vnd.jupyter.widget-view+json": {
       "model_id": "b429d0bba5a6410eb8d7160404830022",
       "version_major": 2,
       "version_minor": 0
      },
      "text/plain": [
       "Fetching GC content:   0%|          | 0/298760 [00:00<?, ?it/s]"
      ]
     },
     "metadata": {},
     "output_type": "display_data"
    },
    {
     "name": "stdout",
     "output_type": "stream",
     "text": [
      "Sampling nearest neighbors\n"
     ]
    },
    {
     "data": {
      "application/vnd.jupyter.widget-view+json": {
       "model_id": "afb7d1920f0047d4a7a6b401387a99bc",
       "version_major": 2,
       "version_minor": 0
      },
      "text/plain": [
       "Sampling background peaks:   0%|          | 0/2500 [00:00<?, ?it/s]"
      ]
     },
     "metadata": {},
     "output_type": "display_data"
    },
    {
     "data": {
      "application/vnd.jupyter.widget-view+json": {
       "model_id": "34f07fde21194868ae2f822707d51722",
       "version_major": 2,
       "version_minor": 0
      },
      "text/plain": [
       "  0%|          | 0/597520 [00:00<?, ?it/s]"
      ]
     },
     "metadata": {},
     "output_type": "display_data"
    },
    {
     "name": "stdout",
     "output_type": "stream",
     "text": [
      "takes 170.44153475761414\n"
     ]
    }
   ],
   "source": [
    "import time\n",
    "start = time.time()\n",
    "get_bias(peak_adata, scp.genome.mm10)\n",
    "sample_bg_peaks(peak_adata, \n",
    "                method='chromvar', # method='chromvar' do the whole binning and sampling thing (faster), when it's 'nndescent' it'll just fit a knn directory on peaks (which is also pretty fast)\n",
    "                niterations=250)\n",
    "motifs = scp.motifs.Motifs(\"./mouse_pfms_v4.txt\", \n",
    "                           scp.genome.mm10.fetch_fa(), \n",
    "                           list(peak_adata.uns['bg_freq']),\n",
    "                           nCores=32,pvalue=5e-5, \n",
    "                           mode='motifmatchr' # when turn on mode='motifmatchr', it replicates the behavior and results of motifmatchr\n",
    "                          )\n",
    "motifs.prep_scanner(tf_genes=None,pvalue=5e-5)\n",
    "motifs.chromvar_scan(peak_adata)\n",
    "print (\"takes\", time.time()-start)"
   ]
  },
  {
   "cell_type": "markdown",
   "id": "32c90009-6ff5-4ff4-99ff-8b7d1c5a867e",
   "metadata": {},
   "source": [
    "calculate chromvar Z-score "
   ]
  },
  {
   "cell_type": "code",
   "execution_count": 7,
   "id": "bd03fc20-6470-4dc0-bf31-8d3bf20ad462",
   "metadata": {},
   "outputs": [
    {
     "data": {
      "application/vnd.jupyter.widget-view+json": {
       "model_id": "a7a938db6c524c7f8eef8ad4d29e82e5",
       "version_major": 2,
       "version_minor": 0
      },
      "text/plain": [
       "Processing chunks:   0%|          | 0/3 [00:00<?, ?it/s]"
      ]
     },
     "metadata": {},
     "output_type": "display_data"
    },
    {
     "data": {
      "application/vnd.jupyter.widget-view+json": {
       "model_id": "c3688f3ca1f14a2d9b7111b016710abc",
       "version_major": 2,
       "version_minor": 0
      },
      "text/plain": [
       "  0%|          | 0/250 [00:00<?, ?it/s]"
      ]
     },
     "metadata": {},
     "output_type": "display_data"
    },
    {
     "data": {
      "application/vnd.jupyter.widget-view+json": {
       "model_id": "0cf68244bcb94ae893129c2c8174c1a7",
       "version_major": 2,
       "version_minor": 0
      },
      "text/plain": [
       "  0%|          | 0/250 [00:00<?, ?it/s]"
      ]
     },
     "metadata": {},
     "output_type": "display_data"
    },
    {
     "data": {
      "application/vnd.jupyter.widget-view+json": {
       "model_id": "841d95d833354a68b44b0d73f7e2d16c",
       "version_major": 2,
       "version_minor": 0
      },
      "text/plain": [
       "  0%|          | 0/250 [00:00<?, ?it/s]"
      ]
     },
     "metadata": {},
     "output_type": "display_data"
    },
    {
     "name": "stdout",
     "output_type": "stream",
     "text": [
      "takes 1118.9884026050568\n"
     ]
    }
   ],
   "source": [
    "start = time.time()\n",
    "results_py = compute_deviations_gpu(peak_adata, \n",
    "                                    chunk_size=10000)\n",
    "\n",
    "print (\"takes\", time.time()-start)"
   ]
  },
  {
   "cell_type": "markdown",
   "id": "737e1648-c8e1-465a-ac0e-7636e61e56d4",
   "metadata": {},
   "source": [
    "## Step 3: making comparisons of R version and python version"
   ]
  },
  {
   "cell_type": "code",
   "execution_count": null,
   "id": "8d7fc5a6-1ac9-437b-b553-eb9705097ee8",
   "metadata": {},
   "outputs": [],
   "source": [
    "results_py = results_py[:, results_r.columns]"
   ]
  },
  {
   "cell_type": "code",
   "execution_count": 9,
   "id": "6691827d-6d2c-4523-8779-151d96dcd2c1",
   "metadata": {},
   "outputs": [
    {
     "data": {
      "text/plain": [
       "PearsonRResult(statistic=0.930282558010774, pvalue=0.0)"
      ]
     },
     "execution_count": 9,
     "metadata": {},
     "output_type": "execute_result"
    }
   ],
   "source": [
    "from scipy.stats import pearsonr, spearmanr\n",
    "pearsonr(results_r.values.reshape((-1)), results_py.X.reshape((-1)))"
   ]
  },
  {
   "cell_type": "code",
   "execution_count": 10,
   "id": "b34a9db9-0a5c-43e2-b40b-7c96911689aa",
   "metadata": {},
   "outputs": [
    {
     "data": {
      "text/plain": [
       "<Axes: >"
      ]
     },
     "execution_count": 10,
     "metadata": {},
     "output_type": "execute_result"
    },
    {
     "data": {
      "image/png": "[encoded data removed]",
      "text/plain": [
       "<Figure size 640x480 with 1 Axes>"
      ]
     },
     "metadata": {},
     "output_type": "display_data"
    }
   ],
   "source": [
    "import seaborn as sns\n",
    "sns.scatterplot(x=results_r.values.reshape((-1)), \n",
    "                y=results_py.X.reshape((-1)), linewidth=0, s=1)"
   ]
  },
  {
   "cell_type": "markdown",
   "id": "15d9bf93-8980-433b-a288-e085ef019809",
   "metadata": {},
   "source": [
    "pretty correlated~"
   ]
  },
  {
   "cell_type": "code",
   "execution_count": null,
   "id": "03a6476f-11a4-4288-9150-f4856b08ef79",
   "metadata": {},
   "outputs": [],
   "source": []
  },
  {
   "cell_type": "code",
   "execution_count": null,
   "id": "0e12b11c-f932-4814-ba8a-8656e666a72e",
   "metadata": {},
   "outputs": [],
   "source": []
  },
  {
   "cell_type": "code",
   "execution_count": null,
   "id": "19d57308-8034-4734-b0b2-d7ed4d384261",
   "metadata": {},
   "outputs": [],
   "source": []
  },
  {
   "cell_type": "code",
   "execution_count": null,
   "id": "18247cf2-5740-476e-b5ee-ac5820fba472",
   "metadata": {},
   "outputs": [],
   "source": []
  },
  {
   "cell_type": "code",
   "execution_count": null,
   "id": "0c3955a1-7e10-4c54-965f-7da1cd005aba",
   "metadata": {},
   "outputs": [],
   "source": []
  },
  {
   "cell_type": "code",
   "execution_count": null,
   "id": "070fee02-e0c2-407c-84c9-bda8c23faf63",
   "metadata": {},
   "outputs": [],
   "source": []
  },
  {
   "cell_type": "code",
   "execution_count": null,
   "id": "397d7392-4f73-4b67-9042-8f991964e2aa",
   "metadata": {},
   "outputs": [],
   "source": []
  },
  {
   "cell_type": "code",
   "execution_count": null,
   "id": "9d226ae2-4cfc-4368-a1f7-2f7cc9f4696d",
   "metadata": {},
   "outputs": [],
   "source": []
  },
  {
   "cell_type": "code",
   "execution_count": null,
   "id": "4c0d9230-2c56-42a2-a994-d0db78e940fc",
   "metadata": {},
   "outputs": [],
   "source": []
  },
  {
   "cell_type": "code",
   "execution_count": null,
   "id": "8194cc65-c63e-4843-96fd-41713700512c",
   "metadata": {},
   "outputs": [],
   "source": []
  },
  {
   "cell_type": "code",
   "execution_count": null,
   "id": "83dfce70-387e-4fcc-99b3-f27acf51adba",
   "metadata": {},
   "outputs": [],
   "source": []
  },
  {
   "cell_type": "code",
   "execution_count": null,
   "id": "afe8f074-c8e6-4008-9c11-4625fe2e72e2",
   "metadata": {},
   "outputs": [],
   "source": []
  },
  {
   "cell_type": "code",
   "execution_count": null,
   "id": "dc3bdced-c963-434d-9fe2-59b5796a767d",
   "metadata": {},
   "outputs": [],
   "source": []
  },
  {
   "cell_type": "code",
   "execution_count": null,
   "id": "67a02ba2-022e-4cf5-84c4-ea139648c853",
   "metadata": {},
   "outputs": [],
   "source": []
  },
  {
   "cell_type": "code",
   "execution_count": null,
   "id": "be752240-e11d-4020-8aec-a415235a0b44",
   "metadata": {},
   "outputs": [],
   "source": []
  }
 ],
 "metadata": {
  "kernelspec": {
   "display_name": "Python 3 (ipykernel)",
   "language": "python",
   "name": "python3"
  },
  "language_info": {
   "codemirror_mode": {
    "name": "ipython",
    "version": 3
   },
   "file_extension": ".py",
   "mimetype": "text/x-python",
   "name": "python",
   "nbconvert_exporter": "python",
   "pygments_lexer": "ipython3",
   "version": "3.11.9"
  }
 },
 "nbformat": 4,
 "nbformat_minor": 5
}
